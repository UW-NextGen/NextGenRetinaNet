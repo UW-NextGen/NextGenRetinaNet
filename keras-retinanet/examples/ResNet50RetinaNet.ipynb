{
 "cells": [
  {
   "cell_type": "markdown",
   "metadata": {},
   "source": [
    "## Load necessary modules"
   ]
  },
  {
   "cell_type": "code",
   "execution_count": 7,
   "metadata": {},
   "outputs": [
    {
     "name": "stdout",
     "output_type": "stream",
     "text": [
      "The autoreload extension is already loaded. To reload it, use:\n",
      "  %reload_ext autoreload\n"
     ]
    }
   ],
   "source": [
    "# show images inline\n",
    "%matplotlib inline\n",
    "\n",
    "# automatically reload modules when they have changed\n",
    "%load_ext autoreload\n",
    "%autoreload 2\n",
    "\n",
    "# import keras\n",
    "import keras\n",
    "\n",
    "# import keras_retinanet\n",
    "from keras_retinanet import models\n",
    "from keras_retinanet.utils.image import read_image_bgr, preprocess_image, resize_image\n",
    "from keras_retinanet.utils.visualization import draw_box, draw_caption\n",
    "from keras_retinanet.utils.colors import label_color\n",
    "\n",
    "# import miscellaneous modules\n",
    "import matplotlib.pyplot as plt\n",
    "import cv2\n",
    "import os\n",
    "import numpy as np\n",
    "import time\n",
    "\n",
    "# set tf backend to allow memory to grow, instead of claiming everything\n",
    "import tensorflow as tf\n",
    "\n",
    "def get_session():\n",
    "    config = tf.ConfigProto()\n",
    "    config.gpu_options.allow_growth = True\n",
    "    return tf.Session(config=config)\n",
    "\n",
    "# use this environment flag to change which GPU to use\n",
    "#os.environ[\"CUDA_VISIBLE_DEVICES\"] = \"1\"\n",
    "\n",
    "# set the modified tf session as backend in keras\n",
    "keras.backend.tensorflow_backend.set_session(get_session())"
   ]
  },
  {
   "cell_type": "markdown",
   "metadata": {},
   "source": [
    "## Load RetinaNet model"
   ]
  },
  {
   "cell_type": "code",
   "execution_count": 5,
   "metadata": {
    "scrolled": false
   },
   "outputs": [
    {
     "name": "stdout",
     "output_type": "stream",
     "text": [
      "../snapshots/single25.h5\n"
     ]
    },
    {
     "name": "stderr",
     "output_type": "stream",
     "text": [
      "/anaconda3/lib/python3.6/site-packages/keras/engine/saving.py:270: UserWarning: No training configuration found in save file: the model was *not* compiled. Compile it manually.\n",
      "  warnings.warn('No training configuration found in save file: '\n"
     ]
    }
   ],
   "source": [
    "# adjust this to point to your downloaded/trained model\n",
    "# models can be downloaded here: https://github.com/fizyr/keras-retinanet/releases\n",
    "model_path = os.path.join('..', 'snapshots', 'single25.h5')\n",
    "print(model_path)\n",
    "\n",
    "# load retinanet model\n",
    "model = models.load_model(model_path, backbone_name='resnet50')\n",
    "\n",
    "# if the model is not converted to an inference model, use the line below\n",
    "# see: https://github.com/fizyr/keras-retinanet#converting-a-training-model-to-inference-model\n",
    "#model = models.load_model(model_path, backbone_name='resnet50', convert_model=True)\n",
    "\n",
    "#print(model.summary())\n",
    "\n",
    "# load label to names mapping for visualization purposes\n",
    "labels_to_names = {0: '111'}"
   ]
  },
  {
   "cell_type": "code",
   "execution_count": 3,
   "metadata": {},
   "outputs": [
    {
     "name": "stderr",
     "output_type": "stream",
     "text": [
      "Parameter format not correct - \"snapshots\".\n"
     ]
    }
   ],
   "source": [
    "ls ../snapshots/"
   ]
  },
  {
   "cell_type": "markdown",
   "metadata": {},
   "source": [
    "## Run detection on example"
   ]
  },
  {
   "cell_type": "code",
   "execution_count": 6,
   "metadata": {
    "scrolled": true
   },
   "outputs": [
    {
     "name": "stdout",
     "output_type": "stream",
     "text": [
      "processing time:  3.431411027908325\n",
      "1ROI_100kx_4100CL_foil1.jpg\n",
      "processing time:  2.6552000045776367\n",
      "200kV_500kx_p2nm_8cmCL_grain1_0004_n.jpg\n",
      "processing time:  2.6706650257110596\n",
      "200kV_500kx_p2nm_8cmCL_grain1_0036.jpg\n",
      "processing time:  2.6541569232940674\n",
      "200kV_500kx_p2nm_8cmCL_grain1_0056 - Copy.jpg\n",
      "processing time:  2.6502957344055176\n",
      "200kV_500kx_p2nm_8cmCL_grain1_0090 - Copy.jpg\n",
      "processing time:  2.6629319190979004\n",
      "200kV_500kx_p2nm_8cmCL_grain1_0135 - Copy.jpg\n",
      "processing time:  2.658515214920044\n",
      "200kV_500kx_p2nm_8cmCL_grain2_0008.jpg\n",
      "processing time:  2.7246150970458984\n",
      "200kV_500kx_p2nm_8cmCL_grain2_0034.jpg\n",
      "processing time:  2.6781020164489746\n",
      "200kV_500kx_p2nm_8cmCL_grain2_0036.jpg\n",
      "processing time:  2.6763341426849365\n",
      "0501_300kx_1nm_clhaadf3_0028.jpg\n",
      "processing time:  2.6501100063323975\n",
      "2501_300kx_1nm_clhaadf3_0042.jpg\n",
      "processing time:  2.6815249919891357\n",
      "2501_300kx_1nm_clhaadf3_0052.jpg\n",
      "processing time:  2.659557342529297\n",
      "g1_backonzone_GBtowardmiddle_0001.jpg\n",
      "processing time:  2.661674976348877\n",
      "g1_backonzone_GBtowardsfrom_0009.jpg\n",
      "processing time:  2.6535699367523193\n",
      "g2_midonzone_GBtowardsfront_0010.jpg\n",
      "processing time:  2.700099229812622\n",
      "g2_midonzone_GBtowardsfront_0034.jpg\n",
      "processing time:  2.67629075050354\n",
      "g2_midonzone_GBtowardsmmiddle_0009.jpg\n",
      "processing time:  2.7026989459991455\n",
      "grid1_roi1_500kx_0p5nm_haadf1_0013.jpg\n",
      "processing time:  2.692605972290039\n",
      "grid1_roi1_500kx_0p5nm_haadf1_0025.jpg\n",
      "processing time:  2.7476842403411865\n",
      "grid1_roi2_500kx_0p5nm_haadf1_0035.jpg\n",
      "processing time:  2.8087589740753174\n",
      "grid1_roi2_500kx_0p5nm_haadf1_0061.jpg\n",
      "processing time:  2.777801036834717\n",
      "K713_300kx_store4_grid1_0011.jpg\n",
      "processing time:  2.738285779953003\n",
      "K713_300kx_store4_grid1_0027.jpg\n",
      "processing time:  2.7391061782836914\n",
      "leftgrain111neargb_bf.jpg\n",
      "processing time:  2.9681053161621094\n",
      "map1_70kx_onzap_CL4100.jpg\n",
      "processing time:  2.8091368675231934\n",
      "map8_70kx_onzap_CL4100.jpg\n",
      "processing time:  2.9837400913238525\n",
      "ROI4_100kx_4200CL_foil1.jpg\n",
      "processing time:  2.841845989227295\n",
      "ROI10_100kx_4200CL_foil1.jpg\n",
      "processing time:  2.704521894454956\n",
      "BF X500K, 05 (3).jpg\n"
     ]
    }
   ],
   "source": [
    "\n",
    "with open('testimages.txt') as f:\n",
    "    \n",
    "    for line in f:\n",
    "        try:\n",
    "            # load image\n",
    "            image = read_image_bgr('test_images/' + line[:-1])\n",
    "\n",
    "            # copy to draw on\n",
    "            draw = image.copy()\n",
    "            draw = cv2.cvtColor(draw, cv2.COLOR_BGR2RGB)\n",
    "\n",
    "            # preprocess image for network\n",
    "            image = preprocess_image(image)\n",
    "            image, scale = resize_image(image)\n",
    "\n",
    "            # process image\n",
    "            start = time.time()\n",
    "            boxes, scores, labels = model.predict_on_batch(np.expand_dims(image, axis=0))\n",
    "            print(\"processing time: \", time.time() - start)\n",
    "\n",
    "            outfile = 'output/' +line[:-5] + '.txt'\n",
    "            fout = open(outfile, mode = 'w+')\n",
    "\n",
    "            # correct for image scale\n",
    "            boxes /= scale\n",
    "\n",
    "            # visualize detections\n",
    "            for box, score, label in zip(boxes[0], scores[0], labels[0]):\n",
    "                # scores are sorted so we can break\n",
    "                if score < 0.01:\n",
    "                    break\n",
    "\n",
    "                color = label_color(label)\n",
    "\n",
    "                b = box.astype(int)\n",
    "                fout.write(f'{b[1]} {b[0]} {b[3]} {b[2]}\\n')\n",
    "                #print(b , ' ', score, ' ' , label)\n",
    "                draw_box(draw, b, color=color)\n",
    "\n",
    "                caption = \"{} {:.3f}\".format(labels_to_names[label], score)\n",
    "                draw_caption(draw, b, caption)\n",
    "\n",
    "            fout.close()\n",
    "            plt.figure(figsize=(15, 15))\n",
    "            plt.axis('off')\n",
    "            plt.imshow(draw)\n",
    "            plt.show()\n",
    "        \n",
    "        except:\n",
    "            print(line[:-1])\n"
   ]
  },
  {
   "cell_type": "code",
   "execution_count": null,
   "metadata": {},
   "outputs": [],
   "source": []
  }
 ],
 "metadata": {
  "kernelspec": {
   "display_name": "Python 3",
   "language": "python",
   "name": "python3"
  },
  "language_info": {
   "codemirror_mode": {
    "name": "ipython",
    "version": 3
   },
   "file_extension": ".py",
   "mimetype": "text/x-python",
   "name": "python",
   "nbconvert_exporter": "python",
   "pygments_lexer": "ipython3",
   "version": "3.6.4"
  }
 },
 "nbformat": 4,
 "nbformat_minor": 2
}
