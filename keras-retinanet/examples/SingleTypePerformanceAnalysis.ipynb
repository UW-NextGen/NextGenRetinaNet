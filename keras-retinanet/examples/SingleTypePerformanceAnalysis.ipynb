{
 "cells": [
  {
   "cell_type": "code",
   "execution_count": 8,
   "metadata": {},
   "outputs": [],
   "source": [
    "#Function to parse the bounding box txt file\n",
    "#Argument - name of file to be parsed\n",
    "#Returns - dictionary of parsed Bounding box results\n",
    "def parseBoundingBoxesSingleType(filename):\n",
    "    with open(filename) as f:\n",
    "        \n",
    "        #dictionary\n",
    "        contents = {}\n",
    "        num = 1\n",
    "        \n",
    "        #iterate through the bounding box txt file\n",
    "        for line in f:\n",
    "            # append bounding box to dictionary\n",
    "            contents[num] = line.strip().split()\n",
    "            num+=1\n",
    "        \n",
    "        #cast from string to int\n",
    "        for length in range(len(contents)):\n",
    "            for length2 in range(len(contents[length+1])):\n",
    "                contents[length+1][length2] = int(float(contents[length+1][length2]))\n",
    "    return contents\n"
   ]
  },
  {
   "cell_type": "code",
   "execution_count": 9,
   "metadata": {},
   "outputs": [],
   "source": [
    "#Function to calculate the average precision and recall\n",
    "#Argument - list (elements are tuples(numerator and denominator))\n",
    "#Returns - sum of numerators/sum of denominators\n",
    "def computeAverage(listname):\n",
    "    total = 0\n",
    "    total2 = 0\n",
    "    for i in range(len(listname)):\n",
    "        total += listname[i][0]\n",
    "        total2 += listname[i][1]\n",
    "    return round(total/total2, 2)"
   ]
  },
  {
   "cell_type": "code",
   "execution_count": 10,
   "metadata": {},
   "outputs": [],
   "source": [
    "#Function to calculate Recall\n",
    "#Arguments - 2 dictionaries (Wei Li's parsed bounding boxes, Model's bounding boxes)\n",
    "#Returns - a tuple (no.of boxes labelled correctly, no. of bounding boxes in ground truth labelling)\n",
    "def calculateRecallSingleType(originalList, generatedList):\n",
    "    \n",
    "    #initialise variables\n",
    "    labelCount = 0    \n",
    "    denominator = len(originalList)\n",
    "    \n",
    "    #iterate through labelled bounding boxes\n",
    "    for iterate in range(1, len(originalList) + 1):\n",
    "        for iterate2 in range(1, len(generatedList) + 1):\n",
    "            #check if model's bounding box coordinates are withing 20 pixels of corresponidng ground truth coordinates\n",
    "            if(generatedList[iterate2][0] - 20 <= originalList[iterate][0] <= generatedList[iterate2][0] + 20 and\n",
    "               generatedList[iterate2][1] - 20 <= originalList[iterate][1] <= generatedList[iterate2][1] + 20 and\n",
    "               generatedList[iterate2][2] - 20 <= originalList[iterate][2] <= generatedList[iterate2][2] + 20 and\n",
    "               generatedList[iterate2][3] - 20 <= originalList[iterate][3] <= generatedList[iterate2][3] + 20 ):\n",
    "                labelCount += 1\n",
    "                #if match found, then break\n",
    "                break\n",
    "        \n",
    "                   \n",
    "    return labelCount,denominator"
   ]
  },
  {
   "cell_type": "code",
   "execution_count": 11,
   "metadata": {},
   "outputs": [],
   "source": [
    "#Function to calculate precision\n",
    "#Arguments - 2 dictionaries (Wei Li's parsed bounding boxes, Model's bounding boxes)\n",
    "#Returns - a tuple (no.of boxes labelled correctly, no. of bounding boxes model'slabelling)\n",
    "def calculatePrecisionSingleType(originalList, generatedList):\n",
    "    \n",
    "    #initialise variables\n",
    "    labelCount = 0    \n",
    "    denominator = len(generatedList)\n",
    "    \n",
    "    #iterate through labelled bounding boxes\n",
    "    for iterate in range(1, len(originalList) + 1):\n",
    "        for iterate2 in range(1, len(generatedList) + 1):\n",
    "            #check if model's bounding box coordinates are withing 20 pixels of corresponidng ground truth coordinates\n",
    "            if(generatedList[iterate2][0] - 20 <= originalList[iterate][0] <= generatedList[iterate2][0] + 20 and\n",
    "               generatedList[iterate2][1] - 20 <= originalList[iterate][1] <= generatedList[iterate2][1] + 20 and\n",
    "               generatedList[iterate2][2] - 20 <= originalList[iterate][2] <= generatedList[iterate2][2] + 20 and\n",
    "               generatedList[iterate2][3] - 20 <= originalList[iterate][3] <= generatedList[iterate2][3] + 20 ):\n",
    "                labelCount += 1\n",
    "                #if match found, then break\n",
    "                break\n",
    "        \n",
    "    \n",
    "    return labelCount,denominator"
   ]
  },
  {
   "cell_type": "code",
   "execution_count": 12,
   "metadata": {},
   "outputs": [],
   "source": [
    "def calculate():\n",
    "    with open('testimages.txt') as f:\n",
    "        preclist = []\n",
    "        reclist = []\n",
    "        for line in f:\n",
    "            \n",
    "            try:\n",
    "                origlist = parseBoundingBoxesSingleType('original/' + line[:-5] + '.txt')\n",
    "                genlist = parseBoundingBoxesSingleType('generated/' + line[:-5] + '.txt')\n",
    "                preclist.append(calculatePrecisionSingleType(origlist, genlist))\n",
    "                reclist.append(calculateRecallSingleType(origlist, genlist))\n",
    "            except:\n",
    "                print(line[:-5] + '.txt')\n",
    "\n",
    "        return reclist, preclist"
   ]
  },
  {
   "cell_type": "code",
   "execution_count": 13,
   "metadata": {},
   "outputs": [],
   "source": [
    "#call calculate\n",
    "recalllist, precisionlist = calculate()"
   ]
  },
  {
   "cell_type": "code",
   "execution_count": 14,
   "metadata": {},
   "outputs": [
    {
     "name": "stdout",
     "output_type": "stream",
     "text": [
      "0.61\n",
      "0.78\n"
     ]
    }
   ],
   "source": [
    "print(computeAverage(recalllist))\n",
    "print(computeAverage(precisionlist))"
   ]
  },
  {
   "cell_type": "code",
   "execution_count": null,
   "metadata": {},
   "outputs": [],
   "source": []
  },
  {
   "cell_type": "code",
   "execution_count": null,
   "metadata": {},
   "outputs": [],
   "source": []
  },
  {
   "cell_type": "code",
   "execution_count": null,
   "metadata": {},
   "outputs": [],
   "source": []
  },
  {
   "cell_type": "code",
   "execution_count": null,
   "metadata": {},
   "outputs": [],
   "source": []
  }
 ],
 "metadata": {
  "kernelspec": {
   "display_name": "Python 3",
   "language": "python",
   "name": "python3"
  },
  "language_info": {
   "codemirror_mode": {
    "name": "ipython",
    "version": 3
   },
   "file_extension": ".py",
   "mimetype": "text/x-python",
   "name": "python",
   "nbconvert_exporter": "python",
   "pygments_lexer": "ipython3",
   "version": "3.6.4"
  }
 },
 "nbformat": 4,
 "nbformat_minor": 2
}
