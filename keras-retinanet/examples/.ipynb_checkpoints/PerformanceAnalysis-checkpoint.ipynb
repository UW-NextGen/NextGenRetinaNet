{
 "cells": [
  {
   "cell_type": "code",
   "execution_count": 1,
   "metadata": {},
   "outputs": [],
   "source": [
    "import math\n",
    "def parseBounds(filename):\n",
    "    with open(filename) as f:\n",
    "        contents = {}\n",
    "        num = 1\n",
    "        for line in f:\n",
    "            contents[num] = line.strip().split()\n",
    "            if 'output' not in filename:\n",
    "                del contents[num][5]\n",
    "            num+=1\n",
    "            \n",
    "        for length in range(len(contents)):\n",
    "            for length2 in range(len(contents[length+1])):\n",
    "                contents[length+1][length2] = int(float(contents[length+1][length2]))\n",
    "    return contents"
   ]
  },
  {
   "cell_type": "code",
   "execution_count": 3,
   "metadata": {},
   "outputs": [
    {
     "ename": "IndexError",
     "evalue": "list assignment index out of range",
     "output_type": "error",
     "traceback": [
      "\u001b[0;31m---------------------------------------------------------------------------\u001b[0m",
      "\u001b[0;31mIndexError\u001b[0m                                Traceback (most recent call last)",
      "\u001b[0;32m<ipython-input-3-aba09047af46>\u001b[0m in \u001b[0;36m<module>\u001b[0;34m()\u001b[0m\n\u001b[0;32m----> 1\u001b[0;31m \u001b[0moriglist\u001b[0m \u001b[0;34m=\u001b[0m \u001b[0mparseBounds\u001b[0m\u001b[0;34m(\u001b[0m\u001b[0;34m'grand.txt'\u001b[0m\u001b[0;34m)\u001b[0m\u001b[0;34m\u001b[0m\u001b[0m\n\u001b[0m\u001b[1;32m      2\u001b[0m \u001b[0mgenlist\u001b[0m \u001b[0;34m=\u001b[0m \u001b[0mparseBounds\u001b[0m\u001b[0;34m(\u001b[0m\u001b[0;34m'test.txt'\u001b[0m\u001b[0;34m)\u001b[0m\u001b[0;34m\u001b[0m\u001b[0m\n",
      "\u001b[0;32m<ipython-input-1-dbdcacb568c0>\u001b[0m in \u001b[0;36mparseBounds\u001b[0;34m(filename)\u001b[0m\n\u001b[1;32m      7\u001b[0m             \u001b[0mcontents\u001b[0m\u001b[0;34m[\u001b[0m\u001b[0mnum\u001b[0m\u001b[0;34m]\u001b[0m \u001b[0;34m=\u001b[0m \u001b[0mline\u001b[0m\u001b[0;34m.\u001b[0m\u001b[0mstrip\u001b[0m\u001b[0;34m(\u001b[0m\u001b[0;34m)\u001b[0m\u001b[0;34m.\u001b[0m\u001b[0msplit\u001b[0m\u001b[0;34m(\u001b[0m\u001b[0;34m)\u001b[0m\u001b[0;34m\u001b[0m\u001b[0m\n\u001b[1;32m      8\u001b[0m             \u001b[0;32mif\u001b[0m \u001b[0;34m'output'\u001b[0m \u001b[0;32mnot\u001b[0m \u001b[0;32min\u001b[0m \u001b[0mfilename\u001b[0m\u001b[0;34m:\u001b[0m\u001b[0;34m\u001b[0m\u001b[0m\n\u001b[0;32m----> 9\u001b[0;31m                 \u001b[0;32mdel\u001b[0m \u001b[0mcontents\u001b[0m\u001b[0;34m[\u001b[0m\u001b[0mnum\u001b[0m\u001b[0;34m]\u001b[0m\u001b[0;34m[\u001b[0m\u001b[0;36m5\u001b[0m\u001b[0;34m]\u001b[0m\u001b[0;34m\u001b[0m\u001b[0m\n\u001b[0m\u001b[1;32m     10\u001b[0m             \u001b[0mnum\u001b[0m\u001b[0;34m+=\u001b[0m\u001b[0;36m1\u001b[0m\u001b[0;34m\u001b[0m\u001b[0m\n\u001b[1;32m     11\u001b[0m \u001b[0;34m\u001b[0m\u001b[0m\n",
      "\u001b[0;31mIndexError\u001b[0m: list assignment index out of range"
     ]
    }
   ],
   "source": [
    "origlist = parseBounds('grand.txt')\n",
    "genlist = parseBounds('test.txt')"
   ]
  },
  {
   "cell_type": "code",
   "execution_count": 36,
   "metadata": {},
   "outputs": [
    {
     "name": "stdout",
     "output_type": "stream",
     "text": [
      "[0, 27, 301, 70, 353]\n",
      "\n",
      "[0, 890, 167, 913, 206]\n",
      "\n",
      "[0, 931, 786, 962, 826]\n",
      "\n",
      "[0, 975, 802, 1018, 864]\n",
      "\n",
      "[0, 848, 722, 887, 770]\n",
      "\n",
      "[0, 740, 875, 787, 918]\n",
      "\n",
      "[0, 49, 882, 78, 913]\n",
      "\n",
      "[0, 296, 343, 337, 381]\n",
      "\n",
      "[0, 434, 642, 481, 684]\n",
      "\n",
      "[0, 610, 420, 633, 436]\n",
      "\n",
      "[0, 869, 906, 900, 942]\n",
      "\n",
      "[0, 226, 498, 250, 531]\n",
      "\n",
      "[0, 140, 663, 166, 687]\n",
      "\n",
      "[0, 118, 689, 143, 721]\n",
      "\n",
      "[0, 67, 673, 92, 697]\n",
      "\n",
      "[0, 624, 45, 655, 74]\n",
      "\n",
      "[0, 870, 229, 889, 250]\n",
      "\n",
      "[0, 823, 682, 847, 716]\n",
      "\n",
      "[2, 197, 278, 219, 300]\n",
      "\n",
      "[2, 97, 362, 113, 378]\n",
      "\n",
      "[2, 825, 285, 848, 308]\n",
      "\n",
      "[2, 566, 408, 593, 434]\n",
      "\n",
      "[2, 797, 347, 813, 363]\n",
      "\n",
      "[2, 423, 825, 469, 871]\n",
      "\n",
      "[2, 197, 840, 232, 875]\n",
      "\n",
      "[2, 178, 981, 197, 1000]\n",
      "\n",
      "[2, 468, 915, 507, 954]\n",
      "\n",
      "[2, 469, 578, 500, 609]\n",
      "\n",
      "[2, 454, 503, 481, 529]\n",
      "\n",
      "[2, 789, 382, 809, 398]\n",
      "\n",
      "[2, 937, 134, 972, 180]\n",
      "\n",
      "[2, 985, 21, 1024, 61]\n",
      "\n",
      "[2, 190, 73, 213, 99]\n",
      "\n",
      "[2, 25, 95, 52, 127]\n",
      "\n",
      "[2, 176, 581, 202, 609]\n",
      "\n",
      "[2, 43, 722, 71, 752]\n",
      "\n",
      "[2, 246, 986, 285, 1023]\n",
      "\n",
      "[1, 361, 289, 378, 316]\n",
      "\n",
      "[1, 790, 493, 799, 503]\n",
      "\n",
      "[1, 777, 537, 785, 551]\n",
      "\n",
      "[1, 805, 528, 828, 551]\n",
      "\n",
      "[1, 780, 548, 794, 566]\n",
      "\n",
      "[1, 758, 653, 780, 675]\n",
      "\n",
      "[1, 896, 739, 909, 752]\n",
      "\n",
      "[1, 648, 658, 662, 672]\n",
      "\n",
      "[1, 486, 765, 502, 781]\n",
      "\n",
      "[1, 501, 847, 522, 868]\n",
      "\n",
      "[1, 571, 959, 585, 974]\n",
      "\n",
      "[1, 860, 807, 872, 818]\n",
      "\n",
      "[1, 151, 41, 164, 55]\n",
      "\n",
      "[1, 283, 154, 295, 165]\n",
      "\n",
      "[1, 390, 2, 407, 18]\n",
      "\n",
      "[1, 6, 900, 18, 912]\n",
      "\n",
      "[1, 396, 753, 408, 765]\n",
      "\n",
      "[1, 337, 912, 352, 928]\n",
      "\n",
      "[1, 822, 848, 836, 862]\n",
      "\n",
      "[1, 500, 319, 511, 330]\n",
      "\n",
      "[1, 845, 558, 862, 576]\n",
      "\n",
      "[1, 991, 685, 1010, 704]\n",
      "\n",
      "[1, 771, 96, 779, 104]\n",
      "\n",
      "[1, 958, 514, 978, 534]\n",
      "\n",
      "[1, 822, 956, 834, 969]\n",
      "\n",
      "[1, 515, 354, 527, 366]\n",
      "\n",
      "[1, 727, 479, 741, 494]\n",
      "\n",
      "[1, 99, 988, 112, 1001]\n",
      "\n",
      "[1, 99, 663, 117, 681]\n",
      "\n",
      "[1, 84, 651, 88, 656]\n",
      "\n"
     ]
    }
   ],
   "source": [
    "for length in range(len(origlist)):\n",
    "    print(f'{origlist[length+1]}\\n')"
   ]
  },
  {
   "cell_type": "code",
   "execution_count": 37,
   "metadata": {},
   "outputs": [
    {
     "name": "stdout",
     "output_type": "stream",
     "text": [
      "[0, 430, 647, 480, 681]\n",
      "\n",
      "[0, 977, 800, 1019, 859]\n",
      "\n",
      "[0, 737, 877, 790, 920]\n",
      "\n",
      "[0, 809, 88, 859, 146]\n",
      "\n",
      "[0, 7, 942, 45, 972]\n",
      "\n",
      "[2, 190, 836, 235, 880]\n",
      "\n",
      "[0, 290, 348, 340, 382]\n",
      "\n",
      "[2, 980, 17, 1016, 53]\n",
      "\n",
      "[2, 843, 725, 888, 774]\n",
      "\n",
      "[0, 612, 539, 646, 572]\n",
      "\n",
      "[0, 884, 165, 916, 205]\n",
      "\n",
      "[0, 932, 782, 962, 827]\n",
      "\n",
      "[0, 613, 916, 646, 956]\n",
      "\n",
      "[2, 933, 134, 972, 174]\n",
      "\n",
      "[0, 868, 911, 899, 945]\n",
      "\n",
      "[2, 465, 912, 505, 953]\n",
      "\n",
      "[0, 419, 821, 469, 872]\n",
      "\n",
      "[0, 820, 281, 851, 312]\n",
      "\n",
      "[2, 868, 911, 899, 945]\n",
      "\n",
      "[1, 191, 774, 222, 812]\n",
      "\n",
      "[2, 563, 406, 593, 439]\n",
      "\n",
      "[0, 659, 288, 693, 316]\n",
      "\n",
      "[2, 819, 669, 851, 711]\n",
      "\n",
      "[0, 465, 912, 505, 953]\n",
      "\n",
      "[0, 220, 494, 251, 532]\n",
      "\n",
      "[2, 220, 494, 251, 533]\n",
      "\n"
     ]
    }
   ],
   "source": [
    "for length in range(len(genlist)):\n",
    "    print(f'{genlist[length+1]}\\n')"
   ]
  },
  {
   "cell_type": "code",
   "execution_count": 38,
   "metadata": {},
   "outputs": [],
   "source": [
    "def calculateOverallRecall(originallist, generatedlist):\n",
    "    labelCount = 0\n",
    "    for iterate in range(1, len(generatedlist) + 1):\n",
    "        for iterate2 in range(1, len(originallist) + 1):\n",
    "            if(generatedlist[iterate][0] == originallist[iterate2][0]):\n",
    "                 if(generatedlist[iterate][1] - 10 <= originallist[iterate2][1] <= generatedlist[iterate][1] + 10 and\n",
    "                    generatedlist[iterate][2] - 10 <= originallist[iterate2][2] <= generatedlist[iterate][2] + 10 and\n",
    "                    generatedlist[iterate][3] - 10 <= originallist[iterate2][3] <= generatedlist[iterate][3] + 10 and \n",
    "                    generatedlist[iterate][4] - 10 <= originallist[iterate2][4] <= generatedlist[iterate][4] + 10) :\n",
    "                        labelCount += 1\n",
    "    \n",
    "    recall = labelCount/ len(originallist)\n",
    "    return recall"
   ]
  },
  {
   "cell_type": "code",
   "execution_count": 39,
   "metadata": {},
   "outputs": [
    {
     "name": "stdout",
     "output_type": "stream",
     "text": [
      "0.19\n"
     ]
    }
   ],
   "source": [
    "print(round(calculateOverallRecall(origlist, genlist),2))"
   ]
  },
  {
   "cell_type": "code",
   "execution_count": 40,
   "metadata": {},
   "outputs": [],
   "source": [
    "def calculateOverallPrecision(originallist, generatedlist):\n",
    "    labelCount = 0\n",
    "   \n",
    "    for iterate in range(1,len(generatedlist) + 1):\n",
    "        for iterate2 in range(1,len(originallist) + 1):\n",
    "            if(generatedlist[iterate][0] == originallist[iterate2][0]):\n",
    "                if(generatedlist[iterate][1] - 10 <= originallist[iterate2][1] <= generatedlist[iterate][1] + 10 and\n",
    "                    generatedlist[iterate][2] - 10 <= originallist[iterate2][2] <= generatedlist[iterate][2] + 10 and\n",
    "                    generatedlist[iterate][3] - 10 <= originallist[iterate2][3] <= generatedlist[iterate][3] + 10 and \n",
    "                    generatedlist[iterate][4] - 10 <= originallist[iterate2][4] <= generatedlist[iterate][4] + 10) :\n",
    "                        labelCount += 1\n",
    "                \n",
    "    \n",
    "    precision = labelCount / len(generatedlist)\n",
    "    return precision"
   ]
  },
  {
   "cell_type": "code",
   "execution_count": 41,
   "metadata": {},
   "outputs": [
    {
     "name": "stdout",
     "output_type": "stream",
     "text": [
      "0.5\n"
     ]
    }
   ],
   "source": [
    "print(round(calculateOverallPrecision(origlist, genlist), 2))"
   ]
  },
  {
   "cell_type": "code",
   "execution_count": 54,
   "metadata": {},
   "outputs": [],
   "source": [
    "def calculateSpecificRecall(originalList, generatedList, defectType):\n",
    "    \n",
    "    labelCount = 0\n",
    "    denominator = 0\n",
    "    \n",
    "    for it in range(1, len(originalList) + 1):\n",
    "        if(originalList[it][0] == defectType):\n",
    "            denominator += 1\n",
    "    \n",
    "    for iterate in range(1, len(generatedList) + 1):\n",
    "        for iterate2 in range(1, len(originalList) + 1):\n",
    "            if(generatedList[iterate][0] == originalList[iterate2][0] == defectType):\n",
    "                if(generatedList[iterate][1] - 10 <= originalList[iterate2][1] <= generatedList[iterate][1] + 10 and\n",
    "                    generatedList[iterate][2] - 10 <= originalList[iterate2][2] <= generatedList[iterate][2] + 10 and\n",
    "                    generatedList[iterate][3] - 10 <= originalList[iterate2][3] <= generatedList[iterate][3] + 10 and \n",
    "                    generatedList[iterate][4] - 10 <= originalList[iterate2][4] <= generatedList[iterate][4] + 10) :\n",
    "                        labelCount += 1\n",
    "    print(f'{labelCount} {denominator}')\n",
    "    return labelCount/denominator\n",
    "    \n",
    "    "
   ]
  },
  {
   "cell_type": "code",
   "execution_count": 55,
   "metadata": {},
   "outputs": [
    {
     "name": "stdout",
     "output_type": "stream",
     "text": [
      "8 18\n",
      "0.44\n"
     ]
    }
   ],
   "source": [
    "print(round(calculateSpecificRecall(origlist, genlist, 0 ), 2))"
   ]
  },
  {
   "cell_type": "code",
   "execution_count": 50,
   "metadata": {},
   "outputs": [],
   "source": [
    "def calculateSpecificPrecision(originalList, generatedList, defectType):\n",
    "    labelCount = 0\n",
    "    denominator = 0\n",
    "    \n",
    "    for it in range(1, len(generatedList) + 1):\n",
    "        if(generatedList[it][0] == defectType):\n",
    "            denominator += 1\n",
    "    \n",
    "    for iterate in range(1, len(generatedList) + 1):\n",
    "        for iterate2 in range(1, len(originalList) + 1):\n",
    "            if(generatedList[iterate][0] == originalList[iterate2][0] == defectType):\n",
    "                if(generatedList[iterate][1] - 10 <= originalList[iterate2][1] <= generatedList[iterate][1] + 10 and\n",
    "                    generatedList[iterate][2] - 10 <= originalList[iterate2][2] <= generatedList[iterate][2] + 10 and\n",
    "                    generatedList[iterate][3] - 10 <= originalList[iterate2][3] <= generatedList[iterate][3] + 10 and \n",
    "                    generatedList[iterate][4] - 10 <= originalList[iterate2][4] <= generatedList[iterate][4] + 10) :\n",
    "                        labelCount += 1\n",
    "    print(f'{labelCount} {denominator}')\n",
    "    return labelCount/denominator\n",
    "    \n",
    "                "
   ]
  },
  {
   "cell_type": "code",
   "execution_count": 51,
   "metadata": {},
   "outputs": [
    {
     "name": "stdout",
     "output_type": "stream",
     "text": [
      "8 16\n",
      "0.5\n"
     ]
    }
   ],
   "source": [
    "print(round(calculateSpecificPrecision(origlist, genlist, 0), 2))"
   ]
  },
  {
   "cell_type": "code",
   "execution_count": 92,
   "metadata": {},
   "outputs": [],
   "source": [
    "def IOUcal(dictlist1, dictlist2):\n",
    "    IOU = []\n",
    "    for i in range(len(dictlist2)):\n",
    "        for j in range(len(dictlist1)): \n",
    "            \n",
    "            if(dictlist2[i+1][0] == dictlist1[j+1][0]):\n",
    "                \n",
    "                Xi1 = dictlist2[i + 1][1] - dictlist2[i + 1][3]/2 \n",
    "                Yi1 = dictlist2[i + 1][2] - dictlist2[i + 1][4]/2\n",
    "                Xj1 = dictlist1[j + 1][1] - dictlist1[j + 1][3]/2 \n",
    "                Yj1 = dictlist1[j + 1][2] - dictlist1[j + 1][4]/2 \n",
    "\n",
    "                Xi2 = dictlist2[i + 1][1] + dictlist2[i + 1][3]/2 \n",
    "                Yi2 = dictlist2[i + 1][2] + dictlist2[i + 1][4]/2 \n",
    "                Xj2 = dictlist1[j + 1][1] + dictlist1[j + 1][3]/2 \n",
    "                Yj2 = dictlist1[j + 1][2] + dictlist1[j + 1][4]/2 \n",
    "\n",
    "                if((Xi1-10 < Xj1 < Xi1+10) and(Yi1-10 < Yj1 < Yi1 + 10) and (Xi2-10 < Xj2 < Xi2 + 10) and (Yi2-10 < Yj2 < Yi2+10 ) ):\n",
    "\n",
    "                    xA = max(Xi1, Xj1)\n",
    "                    yA = max(Yi1, Yj1)\n",
    "                    xB = min(Xi2, Xj2)\n",
    "                    yB = min(Yi2, Yj2)\n",
    "\n",
    "                    # compute the area of intersection rectangle\n",
    "                    interArea = (xB - xA ) * (yB - yA )\n",
    "                    #print(interArea)\n",
    "\n",
    "                    # compute the area of both the prediction and ground-truth\n",
    "                    # rectangles\n",
    "                    boxAArea = dictlist1[j+1][3] * dictlist1[j+1][4]\n",
    "                    boxBArea = dictlist2[i+1][3] * dictlist2[i+1][4]\n",
    "\n",
    "                    #print(boxAArea, ' ',boxBArea)\n",
    "                    # compute the intersection over union by taking the intersection\n",
    "                    # area and dividing it by the sum of prediction + ground-truth\n",
    "                    # areas - the interesection area\n",
    "                    result = [j + 1, i+1,  dictlist2[i+1][0],interArea / (boxAArea + boxBArea - interArea)]\n",
    "\n",
    "                    IOU.append(result)\n",
    "\n",
    "    return IOU          "
   ]
  },
  {
   "cell_type": "code",
   "execution_count": 93,
   "metadata": {},
   "outputs": [
    {
     "name": "stdout",
     "output_type": "stream",
     "text": [
      "[[1, 1, 0, 0.9913598510075262], [28, 2, 0, 0.9927858220986754], [13, 3, 0, 0.9865011858271368], [40, 4, 2, 0.9935877745354016], [16, 5, 0, 0.9917034351838949], [7, 6, 0, 0.9918341132213965], [35, 7, 2, 0.9925238146059268], [47, 8, 2, 0.9865297806498363], [43, 9, 2, 0.9959595959595959], [23, 10, 0, 0.9916452973777815], [48, 11, 2, 0.9943065252309993], [46, 12, 2, 0.9916503042229114], [41, 13, 2, 0.977981328166285], [3, 14, 0, 0.9910898746362938], [10, 15, 0, 0.983202549665775], [21, 16, 0, 0.9917319222719941], [42, 18, 2, 0.9886620074674837], [17, 19, 0, 0.9751427229111203], [2, 20, 0, 0.9948735475051265], [45, 21, 2, 0.988744665982723]]\n"
     ]
    }
   ],
   "source": [
    "myIOUlist = IOUcal(origlist, genlist)\n",
    "print(myIOUlist)\n"
   ]
  },
  {
   "cell_type": "code",
   "execution_count": null,
   "metadata": {},
   "outputs": [],
   "source": []
  }
 ],
 "metadata": {
  "kernelspec": {
   "display_name": "Python 3",
   "language": "python",
   "name": "python3"
  },
  "language_info": {
   "codemirror_mode": {
    "name": "ipython",
    "version": 3
   },
   "file_extension": ".py",
   "mimetype": "text/x-python",
   "name": "python",
   "nbconvert_exporter": "python",
   "pygments_lexer": "ipython3",
   "version": "3.6.4"
  }
 },
 "nbformat": 4,
 "nbformat_minor": 2
}
