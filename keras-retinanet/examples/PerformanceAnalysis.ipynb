{
 "cells": [
  {
   "cell_type": "code",
   "execution_count": 1,
   "metadata": {},
   "outputs": [],
   "source": [
    "import math\n",
    "def parseBounds(filename):\n",
    "    with open(filename) as f:\n",
    "        contents = {}\n",
    "        num = 1\n",
    "        for line in f:\n",
    "            contents[num] = line.strip().split()\n",
    "            if 'output' not in filename:\n",
    "                del contents[num][5]\n",
    "            num+=1\n",
    "            \n",
    "        for length in range(len(contents)):\n",
    "            for length2 in range(len(contents[length+1])):\n",
    "                contents[length+1][length2] = int(float(contents[length+1][length2]))\n",
    "    return contents"
   ]
  },
  {
   "cell_type": "code",
   "execution_count": 2,
   "metadata": {},
   "outputs": [],
   "source": [
    "def parseBoundsSingleType(filename):\n",
    "    with open(filename) as f:\n",
    "        contents = {}\n",
    "        num = 1\n",
    "        for line in f:\n",
    "            contents[num] = line.strip().split()\n",
    "            num+=1\n",
    "            \n",
    "        for length in range(len(contents)):\n",
    "            for length2 in range(len(contents[length+1])):\n",
    "                contents[length+1][length2] = int(float(contents[length+1][length2]))\n",
    "    return contents"
   ]
  },
  {
   "cell_type": "code",
   "execution_count": 32,
   "metadata": {},
   "outputs": [],
   "source": [
    "def calculateOverallRecall(originallist, generatedlist):\n",
    "    labelCount = 0\n",
    "    for iterate in range(1, len(generatedlist) + 1):\n",
    "        for iterate2 in range(1, len(originallist) + 1):\n",
    "            if(generatedlist[iterate][0] == originallist[iterate2][0]):\n",
    "                 if(generatedlist[iterate][1] - 10 <= originallist[iterate2][1] <= generatedlist[iterate][1] + 10 and\n",
    "                    generatedlist[iterate][2] - 10 <= originallist[iterate2][2] <= generatedlist[iterate][2] + 10 and\n",
    "                    generatedlist[iterate][3] - 10 <= originallist[iterate2][3] <= generatedlist[iterate][3] + 10 and \n",
    "                    generatedlist[iterate][4] - 10 <= originallist[iterate2][4] <= generatedlist[iterate][4] + 10) :\n",
    "                        labelCount += 1\n",
    "    \n",
    "    recall = labelCount/ len(originallist)\n",
    "    return recall"
   ]
  },
  {
   "cell_type": "code",
   "execution_count": 33,
   "metadata": {},
   "outputs": [
    {
     "name": "stdout",
     "output_type": "stream",
     "text": [
      "0.19\n"
     ]
    }
   ],
   "source": [
    "print(round(calculateOverallRecall(origlist, genlist),2))"
   ]
  },
  {
   "cell_type": "code",
   "execution_count": 34,
   "metadata": {},
   "outputs": [],
   "source": [
    "def calculateOverallPrecision(originallist, generatedlist):\n",
    "    labelCount = 0\n",
    "   \n",
    "    for iterate in range(1,len(generatedlist) + 1):\n",
    "        for iterate2 in range(1,len(originallist) + 1):\n",
    "            if(generatedlist[iterate][0] == originallist[iterate2][0]):\n",
    "                if(generatedlist[iterate][1] - 15 <= originallist[iterate2][1] <= generatedlist[iterate][1] + 10 and\n",
    "                    generatedlist[iterate][2] - 10 <= originallist[iterate2][2] <= generatedlist[iterate][2] + 10 and\n",
    "                    generatedlist[iterate][3] - 10 <= originallist[iterate2][3] <= generatedlist[iterate][3] + 10 and \n",
    "                    generatedlist[iterate][4] - 10 <= originallist[iterate2][4] <= generatedlist[iterate][4] + 10) :\n",
    "                        labelCount += 1\n",
    "                \n",
    "    \n",
    "    precision = labelCount / len(generatedlist)\n",
    "    return precision"
   ]
  },
  {
   "cell_type": "code",
   "execution_count": 35,
   "metadata": {},
   "outputs": [
    {
     "name": "stdout",
     "output_type": "stream",
     "text": [
      "0.26\n"
     ]
    }
   ],
   "source": [
    "print(round(calculateOverallPrecision(origlist, genlist), 2))"
   ]
  },
  {
   "cell_type": "code",
   "execution_count": 36,
   "metadata": {},
   "outputs": [],
   "source": [
    "def calculateSpecificRecall(originalList, generatedList, defectType):\n",
    "    \n",
    "    labelCount = 0\n",
    "    denominator = 0\n",
    "    \n",
    "    for it in range(1, len(originalList) + 1):\n",
    "        if(originalList[it][0] == defectType):\n",
    "            denominator += 1\n",
    "    \n",
    "    for iterate in range(1, len(generatedList) + 1):\n",
    "        for iterate2 in range(1, len(originalList) + 1):\n",
    "            if(generatedList[iterate][0] == originalList[iterate2][0] == defectType):\n",
    "                if(generatedList[iterate][1] - 15 <= originalList[iterate2][1] <= generatedList[iterate][1] + 15 and\n",
    "                    generatedList[iterate][2] - 15 <= originalList[iterate2][2] <= generatedList[iterate][2] + 15 and\n",
    "                    generatedList[iterate][3] - 15 <= originalList[iterate2][3] <= generatedList[iterate][3] + 15 and \n",
    "                    generatedList[iterate][4] - 15 <= originalList[iterate2][4] <= generatedList[iterate][4] + 15) :\n",
    "                        labelCount += 1\n",
    "    print(f'{labelCount} {denominator}')\n",
    "    return labelCount/denominator\n",
    "    \n",
    "    "
   ]
  },
  {
   "cell_type": "code",
   "execution_count": 46,
   "metadata": {},
   "outputs": [
    {
     "name": "stdout",
     "output_type": "stream",
     "text": [
      "18 55\n",
      "0.33\n"
     ]
    }
   ],
   "source": [
    "print(round(calculateSpecificRecall(origlist, genlist, 1 ), 2))"
   ]
  },
  {
   "cell_type": "code",
   "execution_count": 44,
   "metadata": {},
   "outputs": [],
   "source": [
    "def calculateSpecificPrecision(originalList, generatedList, defectType):\n",
    "    labelCount = 0\n",
    "    denominator = 0\n",
    "    \n",
    "    for it in range(1, len(generatedList) + 1):\n",
    "        if(generatedList[it][0] == defectType):\n",
    "            denominator += 1\n",
    "    \n",
    "    for iterate in range(1, len(generatedList) + 1):\n",
    "        for iterate2 in range(1, len(originalList) + 1):\n",
    "            if(generatedList[iterate][0] == originalList[iterate2][0] == defectType):\n",
    "                if(generatedList[iterate][1] - 15 <= originalList[iterate2][1] <= generatedList[iterate][1] + 15 and\n",
    "                    generatedList[iterate][2] - 15 <= originalList[iterate2][2] <= generatedList[iterate][2] + 15 and\n",
    "                    generatedList[iterate][3] - 15 <= originalList[iterate2][3] <= generatedList[iterate][3] + 15 and \n",
    "                    generatedList[iterate][4] - 15 <= originalList[iterate2][4] <= generatedList[iterate][4] + 15) :\n",
    "                        labelCount += 1\n",
    "    #print(f'{labelCount} {denominator}')\n",
    "    return labelCount/denominator\n",
    "    \n",
    "                "
   ]
  },
  {
   "cell_type": "code",
   "execution_count": 45,
   "metadata": {},
   "outputs": [
    {
     "name": "stdout",
     "output_type": "stream",
     "text": [
      "11 25\n",
      "0.44\n"
     ]
    }
   ],
   "source": [
    "print(round(calculateSpecificPrecision(origlist, genlist, 1), 2))"
   ]
  },
  {
   "cell_type": "code",
   "execution_count": 3,
   "metadata": {},
   "outputs": [],
   "source": [
    "def calculateRecallSingleType(originalList, generatedList):\n",
    "    labelCount = 0\n",
    "    denominator = 0\n",
    "    \n",
    "    denominator = len(originalList)\n",
    "                   \n",
    "    for iterate in range(1, len(generatedList) + 1):\n",
    "        for iterate2 in range(1, len(originalList) + 1):\n",
    "            if(generatedList[iterate][0] - 15 <= originalList[iterate2][0] <= generatedList[iterate][0] + 15 and\n",
    "                    generatedList[iterate][1] - 15 <= originalList[iterate2][1] <= generatedList[iterate][1] + 15 and\n",
    "                    generatedList[iterate][2] - 15 <= originalList[iterate2][2] <= generatedList[iterate][2] + 15 and \n",
    "                    generatedList[iterate][3] - 15 <= originalList[iterate2][3] <= generatedList[iterate][3] + 15) :\n",
    "                        labelCount += 1\n",
    "    #print(f'{labelCount} {denominator}')\n",
    "    return labelCount/denominator\n",
    "    "
   ]
  },
  {
   "cell_type": "code",
   "execution_count": 38,
   "metadata": {},
   "outputs": [
    {
     "name": "stdout",
     "output_type": "stream",
     "text": [
      "55 61\n",
      "0.9\n"
     ]
    }
   ],
   "source": [
    "print(round(calculateRecallSingleType(origlist, genlist), 2))"
   ]
  },
  {
   "cell_type": "code",
   "execution_count": 4,
   "metadata": {},
   "outputs": [],
   "source": [
    "def calculatePrecisionSingleType(originalList, generatedList):\n",
    "    labelCount = 0\n",
    "    denominator = 0\n",
    "    \n",
    "    denominator = len(generatedList)\n",
    "        \n",
    "    for iterate in range(1, len(generatedList) + 1):\n",
    "        for iterate2 in range(1, len(originalList) + 1):\n",
    "            if(generatedList[iterate][0] - 15 <= originalList[iterate2][0] <= generatedList[iterate][0] + 15 and\n",
    "                    generatedList[iterate][1] - 15 <= originalList[iterate2][1] <= generatedList[iterate][1] + 15 and\n",
    "                    generatedList[iterate][2] - 15 <= originalList[iterate2][2] <= generatedList[iterate][2] + 15 and \n",
    "                    generatedList[iterate][3] - 15 <= originalList[iterate2][3] <= generatedList[iterate][3] + 15) :\n",
    "                        labelCount += 1\n",
    "    #print(f'{labelCount} {denominator}')\n",
    "    return labelCount/denominator\n",
    "    \n",
    "    "
   ]
  },
  {
   "cell_type": "code",
   "execution_count": 40,
   "metadata": {},
   "outputs": [
    {
     "name": "stdout",
     "output_type": "stream",
     "text": [
      "55 74\n",
      "0.74\n"
     ]
    }
   ],
   "source": [
    "print(round(calculatePrecisionSingleType(origlist, genlist), 2))"
   ]
  },
  {
   "cell_type": "code",
   "execution_count": 92,
   "metadata": {},
   "outputs": [],
   "source": [
    "def IOUcal(dictlist1, dictlist2):\n",
    "    IOU = []\n",
    "    for i in range(len(dictlist2)):\n",
    "        for j in range(len(dictlist1)): \n",
    "            \n",
    "            if(dictlist2[i+1][0] == dictlist1[j+1][0]):\n",
    "                \n",
    "                Xi1 = dictlist2[i + 1][1] - dictlist2[i + 1][3]/2 \n",
    "                Yi1 = dictlist2[i + 1][2] - dictlist2[i + 1][4]/2\n",
    "                Xj1 = dictlist1[j + 1][1] - dictlist1[j + 1][3]/2 \n",
    "                Yj1 = dictlist1[j + 1][2] - dictlist1[j + 1][4]/2 \n",
    "\n",
    "                Xi2 = dictlist2[i + 1][1] + dictlist2[i + 1][3]/2 \n",
    "                Yi2 = dictlist2[i + 1][2] + dictlist2[i + 1][4]/2 \n",
    "                Xj2 = dictlist1[j + 1][1] + dictlist1[j + 1][3]/2 \n",
    "                Yj2 = dictlist1[j + 1][2] + dictlist1[j + 1][4]/2 \n",
    "\n",
    "                if((Xi1-10 < Xj1 < Xi1+10) and(Yi1-10 < Yj1 < Yi1 + 10) and (Xi2-10 < Xj2 < Xi2 + 10) and (Yi2-10 < Yj2 < Yi2+10 ) ):\n",
    "\n",
    "                    xA = max(Xi1, Xj1)\n",
    "                    yA = max(Yi1, Yj1)\n",
    "                    xB = min(Xi2, Xj2)\n",
    "                    yB = min(Yi2, Yj2)\n",
    "\n",
    "                    # compute the area of intersection rectangle\n",
    "                    interArea = (xB - xA ) * (yB - yA )\n",
    "                    #print(interArea)\n",
    "\n",
    "                    # compute the area of both the prediction and ground-truth\n",
    "                    # rectangles\n",
    "                    boxAArea = dictlist1[j+1][3] * dictlist1[j+1][4]\n",
    "                    boxBArea = dictlist2[i+1][3] * dictlist2[i+1][4]\n",
    "\n",
    "                    #print(boxAArea, ' ',boxBArea)\n",
    "                    # compute the intersection over union by taking the intersection\n",
    "                    # area and dividing it by the sum of prediction + ground-truth\n",
    "                    # areas - the interesection area\n",
    "                    result = [j + 1, i+1,  dictlist2[i+1][0],interArea / (boxAArea + boxBArea - interArea)]\n",
    "\n",
    "                    IOU.append(result)\n",
    "\n",
    "    return IOU          "
   ]
  },
  {
   "cell_type": "code",
   "execution_count": 93,
   "metadata": {
    "scrolled": true
   },
   "outputs": [
    {
     "name": "stdout",
     "output_type": "stream",
     "text": [
      "[[1, 1, 0, 0.9913598510075262], [28, 2, 0, 0.9927858220986754], [13, 3, 0, 0.9865011858271368], [40, 4, 2, 0.9935877745354016], [16, 5, 0, 0.9917034351838949], [7, 6, 0, 0.9918341132213965], [35, 7, 2, 0.9925238146059268], [47, 8, 2, 0.9865297806498363], [43, 9, 2, 0.9959595959595959], [23, 10, 0, 0.9916452973777815], [48, 11, 2, 0.9943065252309993], [46, 12, 2, 0.9916503042229114], [41, 13, 2, 0.977981328166285], [3, 14, 0, 0.9910898746362938], [10, 15, 0, 0.983202549665775], [21, 16, 0, 0.9917319222719941], [42, 18, 2, 0.9886620074674837], [17, 19, 0, 0.9751427229111203], [2, 20, 0, 0.9948735475051265], [45, 21, 2, 0.988744665982723]]\n"
     ]
    }
   ],
   "source": [
    "myIOUlist = IOUcal(origlist, genlist)\n",
    "print(myIOUlist)\n"
   ]
  },
  {
   "cell_type": "code",
   "execution_count": null,
   "metadata": {},
   "outputs": [],
   "source": []
  },
  {
   "cell_type": "code",
   "execution_count": 5,
   "metadata": {},
   "outputs": [],
   "source": [
    "def summary():\n",
    "    with open('testimages.txt') as f:\n",
    "        preclist = []\n",
    "        reclist = []\n",
    "        for line in f:\n",
    "            \n",
    "            try:\n",
    "                origlist = parseBoundsSingleType('original/' + line[:-5] + '.txt')\n",
    "                genlist = parseBoundsSingleType('generated/' + line[:-5] + '.txt')\n",
    "                preclist.append(round(calculatePrecisionSingleType(origlist, genlist), 2))\n",
    "                reclist.append(round(calculateRecallSingleType(origlist, genlist), 2))\n",
    "            except:\n",
    "                print(line[:-5] + '.txt')\n",
    "\n",
    "        return reclist, preclist"
   ]
  },
  {
   "cell_type": "code",
   "execution_count": 7,
   "metadata": {},
   "outputs": [],
   "source": [
    "recalllist, precisionlist2 = summary()"
   ]
  },
  {
   "cell_type": "code",
   "execution_count": 8,
   "metadata": {},
   "outputs": [
    {
     "name": "stdout",
     "output_type": "stream",
     "text": [
      "[0.54, 0.84, 0.8, 0.82, 0.85, 0.56, 0.5, 0.19, 0.49, 1.0, 0.79, 1.0, 0.47, 0.52, 0.56, 0.75, 0.68, 0.8, 0.7, 0.9, 0.8, 0.85, 0.9, 0.55, 0.68, 0.23, 0.42, 0.45, 1.0]\n"
     ]
    }
   ],
   "source": [
    "print(recalllist)"
   ]
  },
  {
   "cell_type": "code",
   "execution_count": 9,
   "metadata": {},
   "outputs": [
    {
     "name": "stdout",
     "output_type": "stream",
     "text": [
      "[0.82, 0.8, 0.86, 1.0, 0.97, 0.89, 1.0, 0.83, 0.97, 0.9, 1.0, 0.85, 0.57, 0.53, 0.37, 0.86, 0.59, 1.0, 0.93, 0.82, 0.75, 0.91, 0.79, 0.47, 0.88, 0.64, 0.79, 0.8, 0.5]\n"
     ]
    }
   ],
   "source": [
    "print(precisionlist2)"
   ]
  },
  {
   "cell_type": "code",
   "execution_count": 10,
   "metadata": {},
   "outputs": [],
   "source": [
    "def computeAverage(listname):\n",
    "    sums = 0\n",
    "    for i in range(len(listname)):\n",
    "        sums += listname[i]\n",
    "    \n",
    "    \n",
    "    average = sums/len(listname)\n",
    "    return average\n",
    "    "
   ]
  },
  {
   "cell_type": "code",
   "execution_count": 11,
   "metadata": {},
   "outputs": [
    {
     "name": "stdout",
     "output_type": "stream",
     "text": [
      "0.677241379310345\n"
     ]
    }
   ],
   "source": [
    "print(computeAverage(recalllist))\n"
   ]
  },
  {
   "cell_type": "code",
   "execution_count": 12,
   "metadata": {},
   "outputs": [
    {
     "name": "stdout",
     "output_type": "stream",
     "text": [
      "0.796206896551724\n"
     ]
    }
   ],
   "source": [
    "print(computeAverage(precisionlist2))"
   ]
  },
  {
   "cell_type": "code",
   "execution_count": null,
   "metadata": {},
   "outputs": [],
   "source": []
  }
 ],
 "metadata": {
  "kernelspec": {
   "display_name": "Python 3",
   "language": "python",
   "name": "python3"
  },
  "language_info": {
   "codemirror_mode": {
    "name": "ipython",
    "version": 3
   },
   "file_extension": ".py",
   "mimetype": "text/x-python",
   "name": "python",
   "nbconvert_exporter": "python",
   "pygments_lexer": "ipython3",
   "version": "3.6.4"
  }
 },
 "nbformat": 4,
 "nbformat_minor": 2
}
